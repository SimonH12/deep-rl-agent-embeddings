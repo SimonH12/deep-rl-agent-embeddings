{
 "cells": [
  {
   "metadata": {},
   "cell_type": "code",
   "source": [
    "import os, sys\n",
    "import torch\n",
    "\n",
    "dir2 = os.path.abspath('')\n",
    "dir1 = os.path.dirname(dir2)\n",
    "dir0 = os.path.dirname(dir1)  # One level above dir1\n",
    "\n",
    "\n",
    "if dir1 not in sys.path: sys.path.append(dir0)\n",
    "\n",
    "from src.config import PPOConfig, EmbeddingStrategy\n",
    "from src.experiments import ExperimentSuite\n",
    "from src.utils import ExperimentUtils\n",
    "\n",
    "\n",
    "\n",
    "def tune_num_heads(strategy, file_name, list_heads, dev=\"cpu\", model_dims=64):\n",
    "    url = \"saved_experiments\" + \"/\" + file_name\n",
    "    base_config_balance_5_agents = PPOConfig(\n",
    "        n_agents=5, scenario_name='balance', decentralized_execution=True, model_dim=model_dims,\n",
    "        max_steps=200, strategy=strategy, max_agents=5, embedding_depth=1\n",
    "    )\n",
    "\n",
    "    param_grid = {\n",
    "        \"attention_heads\": list_heads,\n",
    "    }\n",
    "    my_device = torch.device(dev)\n",
    "    suite = ExperimentSuite(base_config=base_config_balance_5_agents, param_grid=param_grid, name=\"test_all\", device=my_device)\n",
    "    suite.run_all_confidence(k=10)\n",
    "    suite_utils = ExperimentUtils(path=url, experiment_suite=suite)\n",
    "    suite_utils.save_df_to_file()\n",
    "    suite_utils.plot_experiment_suite_df()\n",
    "    suite_utils.create_table_with_confidence()"
   ],
   "id": "1f561deb53b1a347",
   "outputs": [],
   "execution_count": null
  },
  {
   "metadata": {},
   "cell_type": "code",
   "source": "tune_num_heads(EmbeddingStrategy.SAB_TRANSFORMER, '2_sab_transformer_tune_heads', list_heads=[1,2,4], model_dims=64)",
   "id": "1151a27f518a4322",
   "outputs": [],
   "execution_count": null
  },
  {
   "metadata": {},
   "cell_type": "code",
   "source": "tune_num_heads(EmbeddingStrategy.ISAB_TRANSFORMER, '2_isab_transformer_tune_heads', list_heads=[1,2,4], model_dims=64)",
   "id": "8d8ba867bc2d7d6a",
   "outputs": [],
   "execution_count": null
  },
  {
   "metadata": {},
   "cell_type": "code",
   "source": "tune_num_heads(EmbeddingStrategy.SET_TRANSFORMER_INV, '2_set_transformer_tune_heads', list_heads=[1,2,4], model_dims=48)",
   "id": "48b1b72f78b79aee",
   "outputs": [],
   "execution_count": null
  },
  {
   "metadata": {},
   "cell_type": "code",
   "source": "tune_num_heads(EmbeddingStrategy.SET_TRANSFORMER_OG, '2_set_transformer_og_tune_heads', list_heads=[1,2,4], model_dims=48)",
   "id": "aacdfba8a3b88c0d",
   "outputs": [],
   "execution_count": null
  }
 ],
 "metadata": {
  "kernelspec": {
   "display_name": "Python 3.9",
   "language": "python",
   "name": "python39"
  },
  "language_info": {
   "codemirror_mode": {
    "name": "ipython",
    "version": 2
   },
   "file_extension": ".py",
   "mimetype": "text/x-python",
   "name": "python",
   "nbconvert_exporter": "python",
   "pygments_lexer": "ipython2",
   "version": "2.7.6"
  }
 },
 "nbformat": 4,
 "nbformat_minor": 5
}
