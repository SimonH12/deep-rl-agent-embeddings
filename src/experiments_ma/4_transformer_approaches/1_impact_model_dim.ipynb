{
 "cells": [
  {
   "metadata": {},
   "cell_type": "code",
   "source": [
    "import os, sys\n",
    "import torch\n",
    "\n",
    "dir2 = os.path.abspath('')\n",
    "dir1 = os.path.dirname(dir2)\n",
    "dir0 = os.path.dirname(dir1)  # One level above dir1\n",
    "\n",
    "\n",
    "if dir1 not in sys.path: sys.path.append(dir0)\n",
    "\n",
    "from src.config import PPOConfig, EmbeddingStrategy\n",
    "from src.experiments import ExperimentSuite\n",
    "from src.utils import ExperimentUtils\n",
    "\n",
    "def tune_num_model_dims(strategy, file_name, ln=False):\n",
    "    url = \"saved_experiments\" + \"/\" + file_name\n",
    "    base_config_balance_5_agents = PPOConfig(\n",
    "        n_agents=5, scenario_name='balance', decentralized_execution=True,\n",
    "        max_steps=200, strategy=strategy, profile=False,\n",
    "        inducing_points=4, attention_heads=2, count=2, norm=ln\n",
    "    )\n",
    "\n",
    "\n",
    "    param_grid = {\n",
    "        \"model_dim\": [16, 32, 48, 64]\n",
    "    }\n",
    "    my_device = torch.device(\"cpu\")\n",
    "    suite = ExperimentSuite(base_config=base_config_balance_5_agents, param_grid=param_grid, name=\"test_all\", device=my_device)\n",
    "    suite.run_all_confidence(k=10)\n",
    "    suite_utils = ExperimentUtils(path=url, experiment_suite=suite)\n",
    "    suite_utils.save_df_to_file()\n",
    "    suite_utils.plot_experiment_suite_df()\n",
    "    suite_utils.create_table_with_confidence()"
   ],
   "id": "1f561deb53b1a347",
   "outputs": [],
   "execution_count": null
  },
  {
   "metadata": {},
   "cell_type": "code",
   "source": "tune_num_model_dims(EmbeddingStrategy.ISAB_TRANSFORMER, '0_isab_transformer_model_dims_ln.csv', ln=True)",
   "id": "1186aa0b06087939",
   "outputs": [],
   "execution_count": null
  },
  {
   "metadata": {},
   "cell_type": "code",
   "source": "tune_num_model_dims(EmbeddingStrategy.SAB_TRANSFORMER, '0_sab_transformer_model_dims_ln.csv', ln=True)",
   "id": "1151a27f518a4322",
   "outputs": [],
   "execution_count": null
  },
  {
   "metadata": {},
   "cell_type": "code",
   "source": "tune_num_model_dims(EmbeddingStrategy.SET_TRANSFORMER_INV, '0_set_transformer_model_dims_ln.csv', ln=True)",
   "id": "9d717c73f2b71ba6",
   "outputs": [],
   "execution_count": null
  },
  {
   "metadata": {},
   "cell_type": "code",
   "source": "tune_num_model_dims(EmbeddingStrategy.SET_TRANSFORMER_OG, '1_set_transformer_og_model_dims_ln.csv', ln=False)",
   "id": "cae4f945d2d6d770",
   "outputs": [],
   "execution_count": null
  },
  {
   "metadata": {},
   "cell_type": "code",
   "source": "",
   "id": "f63c5abdc23b6e06",
   "outputs": [],
   "execution_count": null
  }
 ],
 "metadata": {
  "kernelspec": {
   "display_name": "Python 3.9",
   "language": "python",
   "name": "python39"
  },
  "language_info": {
   "codemirror_mode": {
    "name": "ipython",
    "version": 2
   },
   "file_extension": ".py",
   "mimetype": "text/x-python",
   "name": "python",
   "nbconvert_exporter": "python",
   "pygments_lexer": "ipython2",
   "version": "2.7.6"
  }
 },
 "nbformat": 4,
 "nbformat_minor": 5
}
