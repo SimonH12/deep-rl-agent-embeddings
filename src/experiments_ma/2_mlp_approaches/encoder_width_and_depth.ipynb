{
 "cells": [
  {
   "metadata": {},
   "cell_type": "code",
   "source": [
    "import os, sys\n",
    "import torch\n",
    "\n",
    "dir2 = os.path.abspath('')\n",
    "dir1 = os.path.dirname(dir2)\n",
    "dir0 = os.path.dirname(dir1)  # One level above dir1\n",
    "\n",
    "\n",
    "if dir1 not in sys.path: sys.path.append(dir0)\n",
    "\n",
    "from src.config import PPOConfig, EmbeddingStrategy\n",
    "from src.experiments import ExperimentSuite\n",
    "from src.utils import ExperimentUtils\n",
    "\n",
    "cells = [16, 32, 48, 64]\n",
    "\n",
    "def tune_width_wrt_depth(strategy, file_name, depth=1, list_of_cells=cells):\n",
    "    url = \"saved_experiments\" + \"/\" + file_name\n",
    "    base_config_balance_5_agents = PPOConfig(\n",
    "        n_agents=5, scenario_name='balance', decentralized_execution=True,\n",
    "        max_steps=200, pooling_method='mean', strategy=strategy, embedding_depth=depth, mlp_core_num_cells=256\n",
    "    )\n",
    "\n",
    "    param_grid = {\n",
    "        \"embedding_num_cells\": list_of_cells\n",
    "    }\n",
    "    my_device = torch.device(\"cpu\")\n",
    "    suite = ExperimentSuite(base_config=base_config_balance_5_agents, param_grid=param_grid, name=\"test_all\", device=my_device)\n",
    "    suite.run_all_confidence(k=10)\n",
    "\n",
    "    suite_utils = ExperimentUtils(path=url, experiment_suite=suite)\n",
    "    suite_utils.save_df_to_file()\n",
    "    suite_utils.plot_experiment_suite_df()\n",
    "    print(suite_utils.create_table_with_confidence())\n"
   ],
   "id": "1f561deb53b1a347",
   "outputs": [],
   "execution_count": null
  },
  {
   "metadata": {},
   "cell_type": "code",
   "source": "tune_width_wrt_depth(EmbeddingStrategy.MLP, file_name='mlp_depth_none.csv', depth=None, list_of_cells=[16]) # Note: if depth=None, embedding_num_cells is irrelevant",
   "id": "11174e9fa3b0eda7",
   "outputs": [],
   "execution_count": null
  },
  {
   "metadata": {},
   "cell_type": "code",
   "source": "tune_width_wrt_depth(EmbeddingStrategy.MLP, file_name='mlp_depth_1.csv', depth=1)",
   "id": "b3ade76ee8ff2c18",
   "outputs": [],
   "execution_count": null
  },
  {
   "metadata": {},
   "cell_type": "code",
   "source": "tune_width_wrt_depth(EmbeddingStrategy.MLP, file_name='mlp_depth_2.csv', depth=2)",
   "id": "571abc13ed321ce7",
   "outputs": [],
   "execution_count": null
  },
  {
   "metadata": {},
   "cell_type": "code",
   "source": "tune_width_wrt_depth(EmbeddingStrategy.MLP_LOCAL, file_name='mlp_local_depth_none.csv', depth=None, list_of_cells=[16])",
   "id": "ef1c2324ff33caa5",
   "outputs": [],
   "execution_count": null
  },
  {
   "metadata": {},
   "cell_type": "code",
   "source": "tune_width_wrt_depth(EmbeddingStrategy.MLP_LOCAL, file_name='mlp_local_depth_1.csv', depth=1)",
   "id": "3f897f2fa6df505d",
   "outputs": [],
   "execution_count": null
  },
  {
   "metadata": {},
   "cell_type": "code",
   "source": "tune_width_wrt_depth(EmbeddingStrategy.MLP_LOCAL, file_name='mlp_local_depth_2.csv', depth=2)",
   "id": "209ec7e9acdcde7a",
   "outputs": [],
   "execution_count": null
  },
  {
   "metadata": {},
   "cell_type": "code",
   "source": "tune_width_wrt_depth(EmbeddingStrategy.MLP_GLOBAL, file_name='mlp_global_depth_none.csv', depth=None, list_of_cells=[16])",
   "id": "e4bba479da98e59b",
   "outputs": [],
   "execution_count": null
  },
  {
   "metadata": {},
   "cell_type": "code",
   "source": "tune_width_wrt_depth(EmbeddingStrategy.MLP_GLOBAL, file_name='mlp_global_depth_1.csv', depth=1)",
   "id": "ebac78facdc27dd9",
   "outputs": [],
   "execution_count": null
  },
  {
   "metadata": {},
   "cell_type": "code",
   "source": "tune_width_wrt_depth(EmbeddingStrategy.MLP_GLOBAL, file_name='mlp_global_depth_2.csv', depth=2)",
   "id": "86f0353e5aa5680e",
   "outputs": [],
   "execution_count": null
  },
  {
   "metadata": {},
   "cell_type": "code",
   "source": "",
   "id": "9cfd12ed9fd0aca1",
   "outputs": [],
   "execution_count": null
  }
 ],
 "metadata": {
  "kernelspec": {
   "display_name": "Python 3.9",
   "language": "python",
   "name": "python39"
  },
  "language_info": {
   "codemirror_mode": {
    "name": "ipython",
    "version": 2
   },
   "file_extension": ".py",
   "mimetype": "text/x-python",
   "name": "python",
   "nbconvert_exporter": "python",
   "pygments_lexer": "ipython2",
   "version": "2.7.6"
  }
 },
 "nbformat": 4,
 "nbformat_minor": 5
}
