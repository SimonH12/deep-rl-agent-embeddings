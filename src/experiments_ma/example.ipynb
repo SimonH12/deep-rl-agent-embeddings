{
 "cells": [
  {
   "metadata": {},
   "cell_type": "markdown",
   "source": "# Example Experiment",
   "id": "90868b1532aca755"
  },
  {
   "cell_type": "code",
   "id": "initial_id",
   "metadata": {
    "collapsed": true
   },
   "source": [
    "import os, sys\n",
    "import torch\n",
    "\n",
    "dir2 = os.path.abspath('')\n",
    "dir1 = os.path.dirname(dir2)\n",
    "dir0 = os.path.dirname(dir1)  # One level above dir1\n",
    "\n",
    "\n",
    "if dir1 not in sys.path: sys.path.append(dir1)\n",
    "\n",
    "from src.config import PPOConfig, EmbeddingStrategy\n",
    "from src.experiments import ExperimentSuite\n",
    "from src.utils import ExperimentUtils\n",
    "\n",
    "\n",
    "def plot_rewards_of_strategy_in_env(list_of_strategies, file_name, agents, iterations, scenario):\n",
    "    url = \"saved_experiments\" + \"/\" + file_name\n",
    "    base_config_balance_5_agents = PPOConfig(\n",
    "        scenario_name=scenario, use_strategy_defaults=True, n_agents=agents, n_iters=iterations\n",
    "    )\n",
    "\n",
    "    param_grid = {\n",
    "        \"strategy\": list_of_strategies\n",
    "    }\n",
    "    my_device = torch.device(\"cpu\")\n",
    "    suite = ExperimentSuite(base_config=base_config_balance_5_agents, param_grid=param_grid, name=\"test_all\", device=my_device)\n",
    "    suite.run_all_confidence(k=10)\n",
    "\n",
    "    suite_utils = ExperimentUtils(path=url, experiment_suite=suite)\n",
    "    suite_utils.save_df_to_file()\n",
    "    suite_utils.plot_experiment_suite_df()\n",
    "    print(suite_utils.create_table_with_confidence())"
   ],
   "outputs": [],
   "execution_count": null
  },
  {
   "metadata": {},
   "cell_type": "markdown",
   "source": [
    "# Setup\n",
    "1. Choose embedding strategies to run the experiment with\n",
    "2. Choose hyperparameter\n",
    "3. Run experiment"
   ],
   "id": "8fddc857b9b65ced"
  },
  {
   "metadata": {},
   "cell_type": "code",
   "source": [
    "strategies = [\n",
    "    EmbeddingStrategy.CONCAT,\n",
    "    EmbeddingStrategy.MLP,\n",
    "    # EmbeddingStrategy.MLP_LOCAL,\n",
    "    # EmbeddingStrategy.MLP_GLOBAL,\n",
    "    EmbeddingStrategy.GRAPH_SAGE,\n",
    "    # EmbeddingStrategy.GRAPH_GAT,\n",
    "    # EmbeddingStrategy.GRAPH_GAT_v2,\n",
    "    # EmbeddingStrategy.SET_TRANSFORMER_INV,\n",
    "    EmbeddingStrategy.ISAB_TRANSFORMER,\n",
    "    # EmbeddingStrategy.SAB_TRANSFORMER\n",
    "]\n",
    "\n",
    "plot_rewards_of_strategy_in_env(strategies, file_name='example.csv', agents=5, iterations=80, scenario='balance')"
   ],
   "id": "65e2343f8e18e93a",
   "outputs": [],
   "execution_count": null
  }
 ],
 "metadata": {
  "kernelspec": {
   "display_name": "Python 3.9",
   "language": "python",
   "name": "python39"
  },
  "language_info": {
   "codemirror_mode": {
    "name": "ipython",
    "version": 2
   },
   "file_extension": ".py",
   "mimetype": "text/x-python",
   "name": "python",
   "nbconvert_exporter": "python",
   "pygments_lexer": "ipython2",
   "version": "2.7.6"
  }
 },
 "nbformat": 4,
 "nbformat_minor": 5
}
