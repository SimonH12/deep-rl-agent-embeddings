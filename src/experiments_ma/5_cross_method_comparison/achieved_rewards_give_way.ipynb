{
 "cells": [
  {
   "metadata": {},
   "cell_type": "code",
   "source": [
    "import os, sys\n",
    "import torch\n",
    "\n",
    "dir2 = os.path.abspath('')\n",
    "dir1 = os.path.dirname(dir2)\n",
    "dir0 = os.path.dirname(dir1)  # One level above dir1\n",
    "\n",
    "\n",
    "if dir1 not in sys.path: sys.path.append(dir0)\n",
    "\n",
    "from src.config import PPOConfig, EmbeddingStrategy\n",
    "from src.experiments import ExperimentSuite\n",
    "from src.utils import ExperimentUtils\n",
    "\n",
    "\n",
    "def plot_rewards_of_strategy_in_env(list_of_strategies, file_name):\n",
    "    url = \"saved_experiments\" + \"/\" + file_name\n",
    "    # NOTE: entropy changed for more exploration\n",
    "    base_config_balance_4_agents = PPOConfig(\n",
    "        scenario_name='multi_give_way_com', use_strategy_defaults=True, n_agents=4, max_steps=200, n_iters=100\n",
    "    )\n",
    "\n",
    "    param_grid = {\n",
    "        \"strategy\": list_of_strategies\n",
    "    }\n",
    "    my_device = torch.device(\"cpu\")\n",
    "    suite = ExperimentSuite(base_config=base_config_balance_4_agents, param_grid=param_grid, name=\"test_all\", device=my_device)\n",
    "    suite.run_all_confidence(k=10, profile_once=True)\n",
    "    suite_utils = ExperimentUtils(path=url, experiment_suite=suite)\n",
    "    suite_utils.save_df_to_file()\n",
    "    # suite_utils.plot_experiment_suite_df()\n",
    "    # suite.rollout_all()\n",
    "    print(suite_utils.create_table_with_confidence())"
   ],
   "id": "27bd201d3250f71b",
   "outputs": [],
   "execution_count": null
  },
  {
   "metadata": {},
   "cell_type": "code",
   "source": [
    "strategies = [\n",
    "    EmbeddingStrategy.CONCAT,\n",
    "]\n",
    "\n",
    "plot_rewards_of_strategy_in_env(strategies, file_name='3_give_way_concat.csv')"
   ],
   "id": "3c3d75c01a9b8a2b",
   "outputs": [],
   "execution_count": null
  },
  {
   "metadata": {},
   "cell_type": "code",
   "source": [
    "strategies = [\n",
    "    EmbeddingStrategy.MLP,\n",
    "    EmbeddingStrategy.MLP_LOCAL,\n",
    "    EmbeddingStrategy.MLP_GLOBAL,\n",
    "]\n",
    "\n",
    "plot_rewards_of_strategy_in_env(strategies, file_name='3_give_way_mlp.csv')"
   ],
   "id": "9afd4e4d346b29a4",
   "outputs": [],
   "execution_count": null
  },
  {
   "metadata": {},
   "cell_type": "code",
   "source": [
    "strategies = [\n",
    "    EmbeddingStrategy.GRAPH_SAGE,\n",
    "    EmbeddingStrategy.GRAPH_GAT,\n",
    "    EmbeddingStrategy.GRAPH_GAT_v2\n",
    "]\n",
    "\n",
    "plot_rewards_of_strategy_in_env(strategies, file_name='3_give_way_graph.csv')"
   ],
   "id": "8173f5191357b303",
   "outputs": [],
   "execution_count": null
  },
  {
   "metadata": {},
   "cell_type": "code",
   "source": [
    "strategies = [\n",
    "    EmbeddingStrategy.SET_TRANSFORMER_INV,\n",
    "    EmbeddingStrategy.ISAB_TRANSFORMER,\n",
    "    EmbeddingStrategy.SAB_TRANSFORMER\n",
    "]\n",
    "\n",
    "plot_rewards_of_strategy_in_env(strategies, file_name='3_give_way_sett.csv')"
   ],
   "id": "e0090c5dc84eefd1",
   "outputs": [],
   "execution_count": null
  },
  {
   "metadata": {},
   "cell_type": "code",
   "source": "",
   "id": "fc452f6b9364c07e",
   "outputs": [],
   "execution_count": null
  }
 ],
 "metadata": {
  "kernelspec": {
   "display_name": "Python 3.9",
   "language": "python",
   "name": "python39"
  },
  "language_info": {
   "codemirror_mode": {
    "name": "ipython",
    "version": 2
   },
   "file_extension": ".py",
   "mimetype": "text/x-python",
   "name": "python",
   "nbconvert_exporter": "python",
   "pygments_lexer": "ipython2",
   "version": "2.7.6"
  }
 },
 "nbformat": 4,
 "nbformat_minor": 5
}
