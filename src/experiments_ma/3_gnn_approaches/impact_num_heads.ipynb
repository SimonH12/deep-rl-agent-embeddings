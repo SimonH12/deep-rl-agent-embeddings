{
 "cells": [
  {
   "metadata": {},
   "cell_type": "code",
   "source": [
    "import os, sys\n",
    "import torch\n",
    "\n",
    "dir2 = os.path.abspath('')\n",
    "dir1 = os.path.dirname(dir2)\n",
    "dir0 = os.path.dirname(dir1)  # One level above dir1\n",
    "\n",
    "\n",
    "if dir1 not in sys.path: sys.path.append(dir0)\n",
    "\n",
    "from src.config import PPOConfig, EmbeddingStrategy\n",
    "from src.experiments import ExperimentSuite\n",
    "from src.utils import ExperimentUtils\n",
    "\n",
    "\n",
    "\n",
    "def tune_num_heads(strategy, file_name, encode, hidden):\n",
    "    url = \"saved_experiments\" + \"/\" + file_name\n",
    "    base_config_balance_5_agents = PPOConfig(\n",
    "        n_agents=5, scenario_name='balance', decentralized_execution=True, hidden_layer_width=hidden,\n",
    "        max_steps=200, strategy=strategy, use_encoder_mlp=encode\n",
    "    )\n",
    "\n",
    "    param_grid = {\n",
    "        \"attention_heads\": [1,2,3],\n",
    "    }\n",
    "    my_device = torch.device(\"cpu\")\n",
    "    suite = ExperimentSuite(base_config=base_config_balance_5_agents, param_grid=param_grid, name=\"test_all\", device=my_device)\n",
    "    suite.run_all_confidence(k=10)\n",
    "    suite_utils = ExperimentUtils(path=url, experiment_suite=suite)\n",
    "    suite_utils.save_df_to_file()\n",
    "    suite_utils.plot_experiment_suite_df()\n",
    "    suite_utils.create_table_with_confidence()"
   ],
   "id": "1f561deb53b1a347",
   "outputs": [],
   "execution_count": null
  },
  {
   "metadata": {},
   "cell_type": "code",
   "source": "tune_num_heads(EmbeddingStrategy.GRAPH_GAT, '2_gat_num_heads_encode_true', encode=True, hidden=64)",
   "id": "1151a27f518a4322",
   "outputs": [],
   "execution_count": null
  },
  {
   "metadata": {},
   "cell_type": "code",
   "source": "tune_num_heads(EmbeddingStrategy.GRAPH_GAT, '2_gat_num_heads_encode_false', encode=False, hidden=48)",
   "id": "9d717c73f2b71ba6",
   "outputs": [],
   "execution_count": null
  },
  {
   "metadata": {},
   "cell_type": "code",
   "source": "tune_num_heads(EmbeddingStrategy.GRAPH_GAT_v2, '2_gatv2_num_heads_encode_true', encode=True, hidden=48)",
   "id": "612994ab456e9793",
   "outputs": [],
   "execution_count": null
  },
  {
   "metadata": {},
   "cell_type": "code",
   "source": "tune_num_heads(EmbeddingStrategy.GRAPH_GAT_v2, '2_gatv2_num_heads_encode_false', encode=False, hidden=48)",
   "id": "1e4842ae02ea4caa",
   "outputs": [],
   "execution_count": null
  }
 ],
 "metadata": {
  "kernelspec": {
   "display_name": "Python 3.9",
   "language": "python",
   "name": "python39"
  },
  "language_info": {
   "codemirror_mode": {
    "name": "ipython",
    "version": 2
   },
   "file_extension": ".py",
   "mimetype": "text/x-python",
   "name": "python",
   "nbconvert_exporter": "python",
   "pygments_lexer": "ipython2",
   "version": "2.7.6"
  }
 },
 "nbformat": 4,
 "nbformat_minor": 5
}
